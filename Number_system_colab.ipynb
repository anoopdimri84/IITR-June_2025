{
  "nbformat": 4,
  "nbformat_minor": 0,
  "metadata": {
    "colab": {
      "provenance": [],
      "authorship_tag": "ABX9TyOtWLpKUgFJNk7PdQxBrfz5",
      "include_colab_link": true
    },
    "kernelspec": {
      "name": "python3",
      "display_name": "Python 3"
    },
    "language_info": {
      "name": "python"
    }
  },
  "cells": [
    {
      "cell_type": "markdown",
      "metadata": {
        "id": "view-in-github",
        "colab_type": "text"
      },
      "source": [
        "<a href=\"https://colab.research.google.com/github/anoopdimri84/IITR-June_2025/blob/main/Number_system_colab.ipynb\" target=\"_parent\"><img src=\"https://colab.research.google.com/assets/colab-badge.svg\" alt=\"Open In Colab\"/></a>"
      ]
    },
    {
      "cell_type": "code",
      "execution_count": 9,
      "metadata": {
        "id": "q18KJq0DW_-y",
        "colab": {
          "base_uri": "https://localhost:8080/"
        },
        "outputId": "7915a512-dbaa-4c48-e871-2840dd4821db"
      },
      "outputs": [
        {
          "output_type": "stream",
          "name": "stdout",
          "text": [
            "Put your number in base10: 55\n",
            "[2, 1, 0]\n"
          ]
        }
      ],
      "source": [
        "num = int(input(\"Put your number in base10: \"))\n",
        "base5_num = []\n",
        "inputnum = num\n",
        "while inputnum >= 5:\n",
        "    digit = inputnum % 5\n",
        "    base5_num.append(digit)\n",
        "    inputnum = inputnum // 5\n",
        "base5_num.append(inputnum)\n",
        "base5_num.reverse()\n",
        "print(base5_num)"
      ]
    },
    {
      "cell_type": "code",
      "source": [
        "ord(\"A\")"
      ],
      "metadata": {
        "colab": {
          "base_uri": "https://localhost:8080/"
        },
        "id": "M4YAvzSgYI8O",
        "outputId": "c8f8d740-5179-4c8b-f5a8-4bb9a0527fb5"
      },
      "execution_count": 1,
      "outputs": [
        {
          "output_type": "execute_result",
          "data": {
            "text/plain": [
              "65"
            ]
          },
          "metadata": {},
          "execution_count": 1
        }
      ]
    },
    {
      "cell_type": "code",
      "source": [
        "hash(\"0\")"
      ],
      "metadata": {
        "colab": {
          "base_uri": "https://localhost:8080/"
        },
        "id": "iCdMu4Z7-RDh",
        "outputId": "073336d0-744e-43e9-813f-3fe63598aa37"
      },
      "execution_count": 5,
      "outputs": [
        {
          "output_type": "execute_result",
          "data": {
            "text/plain": [
              "4722842053505330139"
            ]
          },
          "metadata": {},
          "execution_count": 5
        }
      ]
    },
    {
      "cell_type": "code",
      "source": [
        "import random\n",
        "random.random()"
      ],
      "metadata": {
        "colab": {
          "base_uri": "https://localhost:8080/"
        },
        "id": "_AgsOoQB_fuc",
        "outputId": "44ad72a7-5918-4cbe-bfee-87ec4c6437a0"
      },
      "execution_count": 8,
      "outputs": [
        {
          "output_type": "execute_result",
          "data": {
            "text/plain": [
              "0.7755830966872784"
            ]
          },
          "metadata": {},
          "execution_count": 8
        }
      ]
    },
    {
      "cell_type": "code",
      "source": [
        "10*random.random()"
      ],
      "metadata": {
        "colab": {
          "base_uri": "https://localhost:8080/"
        },
        "id": "kyRRehyDVCNF",
        "outputId": "f03900e4-37c6-452e-94b7-38a67fe887ba"
      },
      "execution_count": 9,
      "outputs": [
        {
          "output_type": "execute_result",
          "data": {
            "text/plain": [
              "8.554742359155153"
            ]
          },
          "metadata": {},
          "execution_count": 9
        }
      ]
    },
    {
      "cell_type": "code",
      "source": [
        "int(10*random.random())"
      ],
      "metadata": {
        "colab": {
          "base_uri": "https://localhost:8080/"
        },
        "id": "Zz1jcMy1VKmE",
        "outputId": "087a6250-5491-4988-ae7b-59ca7fcc4aef"
      },
      "execution_count": 11,
      "outputs": [
        {
          "output_type": "execute_result",
          "data": {
            "text/plain": [
              "9"
            ]
          },
          "metadata": {},
          "execution_count": 11
        }
      ]
    },
    {
      "cell_type": "code",
      "source": [
        "round(10*random.random())"
      ],
      "metadata": {
        "colab": {
          "base_uri": "https://localhost:8080/"
        },
        "id": "EJgbViL1VZkm",
        "outputId": "223a4faa-c190-4722-e838-5f0df922384a"
      },
      "execution_count": 12,
      "outputs": [
        {
          "output_type": "execute_result",
          "data": {
            "text/plain": [
              "6"
            ]
          },
          "metadata": {},
          "execution_count": 12
        }
      ]
    },
    {
      "cell_type": "code",
      "source": [
        "for i in range(6):\n",
        "  10*random.random()\n",
        "  if 10*random.random() = 0:print(i)\n",
        "  elif 10*random.random() = 1:print(i)\n",
        "  elif 10*random.random() = 2:print(i)\n",
        "  elif 10*random.random() = 3:print(i)\n",
        "  elif 10*random.random() = 4:print(i)\n",
        "  else: 10*random.random() = 5:print(i)"
      ],
      "metadata": {
        "colab": {
          "base_uri": "https://localhost:8080/",
          "height": 108
        },
        "id": "onGSd_NdVgCh",
        "outputId": "90635ef8-9ee7-4503-c3c3-ba3a19388428"
      },
      "execution_count": 19,
      "outputs": [
        {
          "output_type": "error",
          "ename": "SyntaxError",
          "evalue": "cannot assign to expression here. Maybe you meant '==' instead of '='? (ipython-input-19-3441864769.py, line 3)",
          "traceback": [
            "\u001b[0;36m  File \u001b[0;32m\"/tmp/ipython-input-19-3441864769.py\"\u001b[0;36m, line \u001b[0;32m3\u001b[0m\n\u001b[0;31m    if 10*random.random() = 0:print(i)\u001b[0m\n\u001b[0m       ^\u001b[0m\n\u001b[0;31mSyntaxError\u001b[0m\u001b[0;31m:\u001b[0m cannot assign to expression here. Maybe you meant '==' instead of '='?\n"
          ]
        }
      ]
    },
    {
      "cell_type": "code",
      "source": [
        "for i in range(10):\n",
        "    x=round(10*random.random())\n",
        "    if x>1:print(1)\n",
        "    else:print(0)"
      ],
      "metadata": {
        "colab": {
          "base_uri": "https://localhost:8080/"
        },
        "id": "lNZpN6fEY-hO",
        "outputId": "831f8303-840f-48d8-c61d-b18587785d2c"
      },
      "execution_count": 20,
      "outputs": [
        {
          "output_type": "stream",
          "name": "stdout",
          "text": [
            "0\n",
            "1\n",
            "1\n",
            "1\n",
            "1\n",
            "1\n",
            "1\n",
            "0\n",
            "1\n",
            "1\n"
          ]
        }
      ]
    },
    {
      "cell_type": "code",
      "source": [],
      "metadata": {
        "id": "hLTJKUTDmkiP"
      },
      "execution_count": null,
      "outputs": []
    }
  ]
}