{
  "nbformat": 4,
  "nbformat_minor": 0,
  "metadata": {
    "colab": {
      "provenance": [],
      "authorship_tag": "ABX9TyMeWECFUqO89j8oh9eQnXm6",
      "include_colab_link": true
    },
    "kernelspec": {
      "name": "python3",
      "display_name": "Python 3"
    },
    "language_info": {
      "name": "python"
    }
  },
  "cells": [
    {
      "cell_type": "markdown",
      "metadata": {
        "id": "view-in-github",
        "colab_type": "text"
      },
      "source": [
        "<a href=\"https://colab.research.google.com/github/anoopdimri84/IITR-June_2025/blob/main/Number_system_colab.ipynb\" target=\"_parent\"><img src=\"https://colab.research.google.com/assets/colab-badge.svg\" alt=\"Open In Colab\"/></a>"
      ]
    },
    {
      "cell_type": "code",
      "execution_count": null,
      "metadata": {
        "id": "q18KJq0DW_-y",
        "colab": {
          "base_uri": "https://localhost:8080/"
        },
        "outputId": "7915a512-dbaa-4c48-e871-2840dd4821db"
      },
      "outputs": [
        {
          "output_type": "stream",
          "name": "stdout",
          "text": [
            "Put your number in base10: 55\n",
            "[2, 1, 0]\n"
          ]
        }
      ],
      "source": [
        "num = int(input(\"Put your number in base10: \"))\n",
        "base5_num = []\n",
        "inputnum = num\n",
        "while inputnum >= 5:\n",
        "    digit = inputnum % 5\n",
        "    base5_num.append(digit)\n",
        "    inputnum = inputnum // 5\n",
        "base5_num.append(inputnum)\n",
        "base5_num.reverse()\n",
        "print(base5_num)"
      ]
    },
    {
      "cell_type": "code",
      "source": [
        "ord(\"A\")"
      ],
      "metadata": {
        "colab": {
          "base_uri": "https://localhost:8080/"
        },
        "id": "M4YAvzSgYI8O",
        "outputId": "c8f8d740-5179-4c8b-f5a8-4bb9a0527fb5"
      },
      "execution_count": null,
      "outputs": [
        {
          "output_type": "execute_result",
          "data": {
            "text/plain": [
              "65"
            ]
          },
          "metadata": {},
          "execution_count": 1
        }
      ]
    },
    {
      "cell_type": "code",
      "source": [
        "hash(\"0\")"
      ],
      "metadata": {
        "colab": {
          "base_uri": "https://localhost:8080/"
        },
        "id": "iCdMu4Z7-RDh",
        "outputId": "073336d0-744e-43e9-813f-3fe63598aa37"
      },
      "execution_count": null,
      "outputs": [
        {
          "output_type": "execute_result",
          "data": {
            "text/plain": [
              "4722842053505330139"
            ]
          },
          "metadata": {},
          "execution_count": 5
        }
      ]
    },
    {
      "cell_type": "code",
      "source": [
        "import random\n",
        "random.random()"
      ],
      "metadata": {
        "colab": {
          "base_uri": "https://localhost:8080/"
        },
        "id": "_AgsOoQB_fuc",
        "outputId": "44ad72a7-5918-4cbe-bfee-87ec4c6437a0"
      },
      "execution_count": null,
      "outputs": [
        {
          "output_type": "execute_result",
          "data": {
            "text/plain": [
              "0.7755830966872784"
            ]
          },
          "metadata": {},
          "execution_count": 8
        }
      ]
    },
    {
      "cell_type": "code",
      "source": [
        "10*random.random()"
      ],
      "metadata": {
        "colab": {
          "base_uri": "https://localhost:8080/"
        },
        "id": "kyRRehyDVCNF",
        "outputId": "f03900e4-37c6-452e-94b7-38a67fe887ba"
      },
      "execution_count": null,
      "outputs": [
        {
          "output_type": "execute_result",
          "data": {
            "text/plain": [
              "8.554742359155153"
            ]
          },
          "metadata": {},
          "execution_count": 9
        }
      ]
    },
    {
      "cell_type": "code",
      "source": [
        "int(10*random.random())"
      ],
      "metadata": {
        "colab": {
          "base_uri": "https://localhost:8080/"
        },
        "id": "Zz1jcMy1VKmE",
        "outputId": "087a6250-5491-4988-ae7b-59ca7fcc4aef"
      },
      "execution_count": null,
      "outputs": [
        {
          "output_type": "execute_result",
          "data": {
            "text/plain": [
              "9"
            ]
          },
          "metadata": {},
          "execution_count": 11
        }
      ]
    },
    {
      "cell_type": "code",
      "source": [
        "round(10*random.random())"
      ],
      "metadata": {
        "colab": {
          "base_uri": "https://localhost:8080/"
        },
        "id": "EJgbViL1VZkm",
        "outputId": "223a4faa-c190-4722-e838-5f0df922384a"
      },
      "execution_count": null,
      "outputs": [
        {
          "output_type": "execute_result",
          "data": {
            "text/plain": [
              "6"
            ]
          },
          "metadata": {},
          "execution_count": 12
        }
      ]
    },
    {
      "cell_type": "code",
      "source": [
        "for i in range(6):\n",
        "  10*random.random()\n",
        "  if 10*random.random() = 0:print(i)\n",
        "  elif 10*random.random() = 1:print(i)\n",
        "  elif 10*random.random() = 2:print(i)\n",
        "  elif 10*random.random() = 3:print(i)\n",
        "  elif 10*random.random() = 4:print(i)\n",
        "  else: 10*random.random() = 5:print(i)"
      ],
      "metadata": {
        "colab": {
          "base_uri": "https://localhost:8080/",
          "height": 108
        },
        "id": "onGSd_NdVgCh",
        "outputId": "90635ef8-9ee7-4503-c3c3-ba3a19388428"
      },
      "execution_count": null,
      "outputs": [
        {
          "output_type": "error",
          "ename": "SyntaxError",
          "evalue": "cannot assign to expression here. Maybe you meant '==' instead of '='? (ipython-input-19-3441864769.py, line 3)",
          "traceback": [
            "\u001b[0;36m  File \u001b[0;32m\"/tmp/ipython-input-19-3441864769.py\"\u001b[0;36m, line \u001b[0;32m3\u001b[0m\n\u001b[0;31m    if 10*random.random() = 0:print(i)\u001b[0m\n\u001b[0m       ^\u001b[0m\n\u001b[0;31mSyntaxError\u001b[0m\u001b[0;31m:\u001b[0m cannot assign to expression here. Maybe you meant '==' instead of '='?\n"
          ]
        }
      ]
    },
    {
      "cell_type": "code",
      "source": [
        "for i in range(10):\n",
        "    x=round(10*random.random())\n",
        "    if x>1:print(1)\n",
        "    else:print(0)"
      ],
      "metadata": {
        "colab": {
          "base_uri": "https://localhost:8080/"
        },
        "id": "lNZpN6fEY-hO",
        "outputId": "831f8303-840f-48d8-c61d-b18587785d2c"
      },
      "execution_count": null,
      "outputs": [
        {
          "output_type": "stream",
          "name": "stdout",
          "text": [
            "0\n",
            "1\n",
            "1\n",
            "1\n",
            "1\n",
            "1\n",
            "1\n",
            "0\n",
            "1\n",
            "1\n"
          ]
        }
      ]
    },
    {
      "cell_type": "code",
      "source": [
        "print(hash(\"A\"))\n",
        "print(ord(\"A\"))"
      ],
      "metadata": {
        "id": "hLTJKUTDmkiP",
        "colab": {
          "base_uri": "https://localhost:8080/"
        },
        "outputId": "09e0e72d-9f9d-4fad-bb81-4326d752523c"
      },
      "execution_count": null,
      "outputs": [
        {
          "output_type": "stream",
          "name": "stdout",
          "text": [
            "-5389302658000391318\n",
            "65\n"
          ]
        }
      ]
    },
    {
      "cell_type": "code",
      "source": [
        "l = [2312,12312,2,3,344,35,6565,6565,323]\n",
        "i=0\n",
        "for i in range(5, len(l)):\n",
        "  print(int(l[i])%4)\n",
        "  i=i+1"
      ],
      "metadata": {
        "colab": {
          "base_uri": "https://localhost:8080/"
        },
        "id": "KITpCStD60Qu",
        "outputId": "c29dcc06-cdeb-463a-b112-19638d6c2c23"
      },
      "execution_count": null,
      "outputs": [
        {
          "output_type": "stream",
          "name": "stdout",
          "text": [
            "3\n",
            "1\n",
            "1\n",
            "3\n"
          ]
        }
      ]
    },
    {
      "cell_type": "code",
      "source": [
        "hash(help)"
      ],
      "metadata": {
        "colab": {
          "base_uri": "https://localhost:8080/"
        },
        "id": "NNt6txt69A9P",
        "outputId": "e5850b64-56f9-47a4-cc2a-00ab46cc56f6"
      },
      "execution_count": null,
      "outputs": [
        {
          "output_type": "execute_result",
          "data": {
            "text/plain": [
              "8501317955261"
            ]
          },
          "metadata": {},
          "execution_count": 23
        }
      ]
    },
    {
      "cell_type": "code",
      "source": [
        "def myinterest (p, r, t):\n",
        "  interest = p*r*t/100\n",
        "  return interest"
      ],
      "metadata": {
        "id": "XvsPvEXwCGyG"
      },
      "execution_count": null,
      "outputs": []
    },
    {
      "cell_type": "code",
      "source": [
        "principle = int(input(\"Put your principle: \"))\n",
        "result = myinterest(principle, 10, 2)\n",
        "print(result + principle)"
      ],
      "metadata": {
        "colab": {
          "base_uri": "https://localhost:8080/"
        },
        "id": "Czkrub9rQdgD",
        "outputId": "75bd3ccd-7726-4cfa-9d38-8afb3dae4869"
      },
      "execution_count": null,
      "outputs": [
        {
          "output_type": "stream",
          "name": "stdout",
          "text": [
            "Put your principle: 100\n",
            "120.0\n"
          ]
        }
      ]
    },
    {
      "cell_type": "code",
      "source": [
        "def mytotal(myinterest):\n",
        "  p = int(input(\"Put your principle: \"))\n",
        "  total = (p*myinterest)\n",
        "  return total"
      ],
      "metadata": {
        "id": "l_hxQ2bVL6H_"
      },
      "execution_count": null,
      "outputs": []
    },
    {
      "cell_type": "code",
      "source": [
        "mytotal(100)"
      ],
      "metadata": {
        "colab": {
          "base_uri": "https://localhost:8080/"
        },
        "id": "JwOoVy7XL2gh",
        "outputId": "e67ccb5b-c1b5-4491-ce13-87cedae8a5a0"
      },
      "execution_count": null,
      "outputs": [
        {
          "name": "stdout",
          "output_type": "stream",
          "text": [
            "Put your principle: 100\n"
          ]
        },
        {
          "output_type": "execute_result",
          "data": {
            "text/plain": [
              "10000"
            ]
          },
          "metadata": {},
          "execution_count": 60
        }
      ]
    },
    {
      "cell_type": "code",
      "source": [
        "def myinterest (p, r, t):\n",
        "  return p*r*t/100"
      ],
      "metadata": {
        "id": "Ur5EwguLMR2P"
      },
      "execution_count": null,
      "outputs": []
    },
    {
      "cell_type": "code",
      "source": [
        "myinterest(100,10,2)"
      ],
      "metadata": {
        "colab": {
          "base_uri": "https://localhost:8080/"
        },
        "id": "g2dSHuyERjBL",
        "outputId": "bcdae614-d652-47c6-c4c8-07603c246eb3"
      },
      "execution_count": null,
      "outputs": [
        {
          "output_type": "execute_result",
          "data": {
            "text/plain": [
              "20.0"
            ]
          },
          "metadata": {},
          "execution_count": 64
        }
      ]
    },
    {
      "cell_type": "code",
      "source": [
        "myinterest"
      ],
      "metadata": {
        "colab": {
          "base_uri": "https://localhost:8080/",
          "height": 103
        },
        "id": "dT2Ub34oRnFX",
        "outputId": "b3f4d6b7-802c-4073-e02b-93b8959f4a35"
      },
      "execution_count": null,
      "outputs": [
        {
          "output_type": "execute_result",
          "data": {
            "text/plain": [
              "<function __main__.myinterest(p, r, t)>"
            ],
            "text/html": [
              "<div style=\"max-width:800px; border: 1px solid var(--colab-border-color);\"><style>\n",
              "      pre.function-repr-contents {\n",
              "        overflow-x: auto;\n",
              "        padding: 8px 12px;\n",
              "        max-height: 500px;\n",
              "      }\n",
              "\n",
              "      pre.function-repr-contents.function-repr-contents-collapsed {\n",
              "        cursor: pointer;\n",
              "        max-height: 100px;\n",
              "      }\n",
              "    </style>\n",
              "    <pre style=\"white-space: initial; background:\n",
              "         var(--colab-secondary-surface-color); padding: 8px 12px;\n",
              "         border-bottom: 1px solid var(--colab-border-color);\"><b>myinterest</b><br/>def myinterest(p, r, t)</pre><pre class=\"function-repr-contents function-repr-contents-collapsed\" style=\"\"><a class=\"filepath\" style=\"display:none\" href=\"#\">/tmp/ipython-input-63-556155713.py</a>&lt;no docstring&gt;</pre></div>"
            ]
          },
          "metadata": {},
          "execution_count": 65
        }
      ]
    },
    {
      "cell_type": "code",
      "source": [
        "# base5 to base 10\n",
        "num = 1224 # 4*1 + 2*5 + 2*5*5 + 1*5*5*5\n",
        "result = 0\n",
        "mult = 1\n",
        "while num > 0:\n",
        "  rem = num%10\n",
        "  result = result+rem*mult\n",
        "  num = num//10\n",
        "  mult = mult*5\n",
        "print(result)"
      ],
      "metadata": {
        "colab": {
          "base_uri": "https://localhost:8080/"
        },
        "id": "jbtbxFQvTay5",
        "outputId": "bf70994e-8dbe-493e-b26e-40bd45b72a46"
      },
      "execution_count": null,
      "outputs": [
        {
          "output_type": "stream",
          "name": "stdout",
          "text": [
            "189\n"
          ]
        }
      ]
    },
    {
      "cell_type": "code",
      "source": [
        "# base5 to base 10\n",
        "# num = 1224 # 4*1 + 2*5 + 2*5*5 + 1*5*5*5\n",
        "num = int(input(\"Put your number in your base: \"))\n",
        "base = int(input(\"Put your base: \"))\n",
        "result = 0\n",
        "mult = 1\n",
        "while num > 0:\n",
        "  rem = num%10\n",
        "  result = result+rem*mult\n",
        "  num = num//10\n",
        "  mult = mult*base\n",
        "print(result)"
      ],
      "metadata": {
        "colab": {
          "base_uri": "https://localhost:8080/"
        },
        "id": "VvWRD5njkgJz",
        "outputId": "08d05d24-911e-40c2-e2bb-521c0677681a"
      },
      "execution_count": null,
      "outputs": [
        {
          "output_type": "stream",
          "name": "stdout",
          "text": [
            "Put your number in your base: 244455\n",
            "Put your base: 6\n",
            "21779\n"
          ]
        }
      ]
    },
    {
      "cell_type": "code",
      "source": [
        "def numberconversion(num, mult, result):\n",
        "  rem = num%10\n",
        "  result = result + rem*mult\n",
        "  num = num//10\n",
        "  mult = mult*5\n",
        "  if num == 0:\n",
        "    return result\n",
        "  else:\n",
        "    return numberconversion(num, mult, result)"
      ],
      "metadata": {
        "id": "xQaOFglGllkg"
      },
      "execution_count": null,
      "outputs": []
    },
    {
      "cell_type": "code",
      "source": [
        "mynumber = numberconversion(4123324, 1, 0)\n",
        "mynumber"
      ],
      "metadata": {
        "colab": {
          "base_uri": "https://localhost:8080/"
        },
        "id": "L5pLKk1yrvFo",
        "outputId": "3d514b41-ef67-488d-b52f-18cc8e8ba59f"
      },
      "execution_count": null,
      "outputs": [
        {
          "output_type": "execute_result",
          "data": {
            "text/plain": [
              "67339"
            ]
          },
          "metadata": {},
          "execution_count": 74
        }
      ]
    },
    {
      "cell_type": "code",
      "source": [
        "def numberconversion1(num):\n",
        "  result = 0\n",
        "  mult = 1\n",
        "  while num != 0:\n",
        "    rem = num%10\n",
        "    result = result + rem*mult\n",
        "    num = num//10\n",
        "    mult = mult*5\n",
        "  return result"
      ],
      "metadata": {
        "id": "VkHmGccyrxPE"
      },
      "execution_count": 85,
      "outputs": []
    },
    {
      "cell_type": "code",
      "source": [
        "mynumber1 = numberconversion1(4123324)\n",
        "mynumber1"
      ],
      "metadata": {
        "id": "djVnH0zCsWfn",
        "colab": {
          "base_uri": "https://localhost:8080/"
        },
        "outputId": "2b177652-d792-41d3-aa75-db278d184376"
      },
      "execution_count": 86,
      "outputs": [
        {
          "output_type": "execute_result",
          "data": {
            "text/plain": [
              "67339"
            ]
          },
          "metadata": {},
          "execution_count": 86
        }
      ]
    },
    {
      "cell_type": "code",
      "source": [
        "!git clone https://github.com/anoopdimri84/IITR-June_2025.git"
      ],
      "metadata": {
        "id": "_Zq_HxYFsZun",
        "colab": {
          "base_uri": "https://localhost:8080/"
        },
        "outputId": "23431774-417b-40c5-88bb-ec47a6f42cf6"
      },
      "execution_count": 87,
      "outputs": [
        {
          "output_type": "stream",
          "name": "stdout",
          "text": [
            "Cloning into 'IITR-June_2025'...\n",
            "remote: Enumerating objects: 67, done.\u001b[K\n",
            "remote: Counting objects: 100% (67/67), done.\u001b[K\n",
            "remote: Compressing objects: 100% (49/49), done.\u001b[K\n",
            "remote: Total 67 (delta 15), reused 58 (delta 13), pack-reused 0 (from 0)\u001b[K\n",
            "Receiving objects: 100% (67/67), 41.22 KiB | 6.87 MiB/s, done.\n",
            "Resolving deltas: 100% (15/15), done.\n"
          ]
        }
      ]
    },
    {
      "cell_type": "code",
      "source": [
        "!ls"
      ],
      "metadata": {
        "colab": {
          "base_uri": "https://localhost:8080/"
        },
        "id": "EtKXA_Ety9RT",
        "outputId": "900c1b8e-25cb-416d-a522-7d62c8ac3943"
      },
      "execution_count": 88,
      "outputs": [
        {
          "output_type": "stream",
          "name": "stdout",
          "text": [
            "IITR-June_2025\tsample_data\n"
          ]
        }
      ]
    },
    {
      "cell_type": "code",
      "source": [
        "!pwd"
      ],
      "metadata": {
        "colab": {
          "base_uri": "https://localhost:8080/"
        },
        "id": "NPzPFufMzBHz",
        "outputId": "6c82e01e-edf0-48f5-b485-4f86866d68c9"
      },
      "execution_count": 89,
      "outputs": [
        {
          "output_type": "stream",
          "name": "stdout",
          "text": [
            "/content\n"
          ]
        }
      ]
    },
    {
      "cell_type": "code",
      "source": [
        "!ls"
      ],
      "metadata": {
        "colab": {
          "base_uri": "https://localhost:8080/"
        },
        "id": "3dIv8jXhzDe9",
        "outputId": "af9a574f-d535-432c-ba61-11c6d20d4104"
      },
      "execution_count": 90,
      "outputs": [
        {
          "output_type": "stream",
          "name": "stdout",
          "text": [
            "IITR-June_2025\tsample_data\n"
          ]
        }
      ]
    },
    {
      "cell_type": "code",
      "source": [
        "!cd IITR-June_2025"
      ],
      "metadata": {
        "id": "meHWq9xPzkLq"
      },
      "execution_count": 92,
      "outputs": []
    },
    {
      "cell_type": "code",
      "source": [],
      "metadata": {
        "id": "5PvHFifTzmsM"
      },
      "execution_count": null,
      "outputs": []
    }
  ]
}